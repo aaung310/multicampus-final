{
 "cells": [
  {
   "cell_type": "markdown",
   "id": "80582d0f",
   "metadata": {},
   "source": [
    "**좌한님이 받으신 파일**"
   ]
  },
  {
   "cell_type": "code",
   "execution_count": 1,
   "id": "b681ce68",
   "metadata": {},
   "outputs": [],
   "source": [
    "import pandas as pd\n",
    "import os\n",
    "\n",
    "filePath = './data/raw/'  #폴더주소 입력(윈도우 기준)\n",
    "fileAll = os.listdir(filePath)"
   ]
  },
  {
   "cell_type": "code",
   "execution_count": 2,
   "id": "59a70c82",
   "metadata": {},
   "outputs": [
    {
     "data": {
      "text/plain": [
       "['OBS_AWS_TIM_20210903133807.csv',\n",
       " 'OBS_AWS_TIM_20210903135507.csv',\n",
       " 'OBS_AWS_TIM_20210903131901.csv',\n",
       " 'OBS_AWS_TIM_20210903121408.csv',\n",
       " 'OBS_AWS_TIM_20210903141352.csv',\n",
       " 'OBS_AWS_TIM_20210903140855.csv']"
      ]
     },
     "execution_count": 2,
     "metadata": {},
     "output_type": "execute_result"
    }
   ],
   "source": [
    "fileAll"
   ]
  },
  {
   "cell_type": "code",
   "execution_count": 4,
   "id": "fd539332",
   "metadata": {
    "scrolled": false
   },
   "outputs": [
    {
     "name": "stderr",
     "output_type": "stream",
     "text": [
      "/home/ubuntu/anaconda3/envs/lab11/lib/python3.8/site-packages/IPython/core/interactiveshell.py:3441: DtypeWarning: Columns (0,3,4,5,6,7,8,9) have mixed types.Specify dtype option on import or set low_memory=False.\n",
      "  exec(code_obj, self.user_global_ns, self.user_ns)\n"
     ]
    }
   ],
   "source": [
    "df = pd.read_csv('./data/weather.csv' ,encoding='cp949')"
   ]
  },
  {
   "cell_type": "code",
   "execution_count": 21,
   "id": "e2c9a681",
   "metadata": {},
   "outputs": [],
   "source": [
    "df_a = pd.read_csv(filePath+fileAll[0],encoding='cp949')\n",
    "df_b = pd.read_csv(filePath+fileAll[1],encoding='cp949')\n",
    "df_c = pd.read_csv(filePath+fileAll[2],encoding='cp949')\n",
    "df_d = pd.read_csv(filePath+fileAll[3],encoding='cp949')\n",
    "df_e = pd.read_csv(filePath+fileAll[4],encoding='cp949')\n",
    "df_f = pd.read_csv(filePath+fileAll[5],encoding='cp949')"
   ]
  },
  {
   "cell_type": "code",
   "execution_count": 30,
   "id": "ebf04768",
   "metadata": {},
   "outputs": [],
   "source": [
    "df_1 = pd.concat((df_a,df_b,df_c,df_d,df_e,df_f))"
   ]
  },
  {
   "cell_type": "code",
   "execution_count": 23,
   "id": "74640ec0",
   "metadata": {},
   "outputs": [
    {
     "name": "stdout",
     "output_type": "stream",
     "text": [
      "(226935, 10) (276441, 10) (1958486, 10) (253564, 10) (822559, 10) (910698, 10)\n"
     ]
    }
   ],
   "source": [
    "print(df_a.shape, df_b.shape, df_c.shape,df_d.shape,df_e.shape,df_f.shape)"
   ]
  },
  {
   "cell_type": "code",
   "execution_count": 24,
   "id": "de8f79d5",
   "metadata": {},
   "outputs": [
    {
     "data": {
      "text/plain": [
       "4448683"
      ]
     },
     "execution_count": 24,
     "metadata": {},
     "output_type": "execute_result"
    }
   ],
   "source": [
    "226935+276441+1958486+253564+822559+910698"
   ]
  },
  {
   "cell_type": "code",
   "execution_count": 31,
   "id": "3ac81db2",
   "metadata": {},
   "outputs": [
    {
     "name": "stdout",
     "output_type": "stream",
     "text": [
      "<class 'pandas.core.frame.DataFrame'>\n",
      "Int64Index: 4448683 entries, 0 to 910697\n",
      "Data columns (total 10 columns):\n",
      " #   Column     Dtype  \n",
      "---  ------     -----  \n",
      " 0   지점         int64  \n",
      " 1   지점명        object \n",
      " 2   일시         object \n",
      " 3   기온(°C)     float64\n",
      " 4   풍향(deg)    float64\n",
      " 5   풍속(m/s)    float64\n",
      " 6   강수량(mm)    float64\n",
      " 7   현지기압(hPa)  float64\n",
      " 8   해면기압(hPa)  float64\n",
      " 9   습도(%)      float64\n",
      "dtypes: float64(7), int64(1), object(2)\n",
      "memory usage: 373.3+ MB\n"
     ]
    }
   ],
   "source": [
    "df_1.info()"
   ]
  },
  {
   "cell_type": "markdown",
   "id": "dbbd0e4e",
   "metadata": {},
   "source": [
    "**상석님이 받으신 파일**"
   ]
  },
  {
   "cell_type": "code",
   "execution_count": 26,
   "id": "4d957b4f",
   "metadata": {},
   "outputs": [],
   "source": [
    "filePath = '/home/lab18/weather/'  #폴더주소 입력(윈도우 기준)\n",
    "fileAll = os.listdir(filePath)"
   ]
  },
  {
   "cell_type": "code",
   "execution_count": 27,
   "id": "72163551",
   "metadata": {},
   "outputs": [
    {
     "data": {
      "text/plain": [
       "['weather_2017_4.csv',\n",
       " 'weahter_2017_2.csv',\n",
       " 'weather_2017_3.csv',\n",
       " 'weather_2017_1.csv']"
      ]
     },
     "execution_count": 27,
     "metadata": {},
     "output_type": "execute_result"
    }
   ],
   "source": [
    "fileAll"
   ]
  },
  {
   "cell_type": "code",
   "execution_count": 32,
   "id": "abb8afad",
   "metadata": {},
   "outputs": [],
   "source": [
    "df_a = pd.read_csv(filePath+fileAll[0],encoding='cp949')\n",
    "df_b = pd.read_csv(filePath+fileAll[1],encoding='cp949')\n",
    "df_c = pd.read_csv(filePath+fileAll[2],encoding='cp949')\n",
    "df_d = pd.read_csv(filePath+fileAll[3],encoding='cp949')"
   ]
  },
  {
   "cell_type": "code",
   "execution_count": 33,
   "id": "d545d288",
   "metadata": {},
   "outputs": [],
   "source": [
    "df_2 = pd.concat((df_a,df_b,df_c,df_d))"
   ]
  },
  {
   "cell_type": "code",
   "execution_count": 34,
   "id": "13cff79a",
   "metadata": {},
   "outputs": [
    {
     "name": "stdout",
     "output_type": "stream",
     "text": [
      "<class 'pandas.core.frame.DataFrame'>\n",
      "Int64Index: 4449165 entries, 0 to 1091072\n",
      "Data columns (total 10 columns):\n",
      " #   Column     Dtype  \n",
      "---  ------     -----  \n",
      " 0   지점         int64  \n",
      " 1   지점명        object \n",
      " 2   일시         object \n",
      " 3   기온(°C)     float64\n",
      " 4   풍향(deg)    float64\n",
      " 5   풍속(m/s)    float64\n",
      " 6   강수량(mm)    float64\n",
      " 7   현지기압(hPa)  float64\n",
      " 8   해면기압(hPa)  float64\n",
      " 9   습도(%)      float64\n",
      "dtypes: float64(7), int64(1), object(2)\n",
      "memory usage: 373.4+ MB\n"
     ]
    }
   ],
   "source": [
    "df_2.info()"
   ]
  },
  {
   "cell_type": "code",
   "execution_count": null,
   "id": "1564dd8f",
   "metadata": {},
   "outputs": [],
   "source": [
    "# df_1의 00시가 결측된 것을 확인해서 df_2를 weather로 사용하기로 결정!!! "
   ]
  },
  {
   "cell_type": "code",
   "execution_count": 49,
   "id": "ce9910a2",
   "metadata": {},
   "outputs": [],
   "source": [
    "df_2.to_csv('./data/weather_2017.csv', index=False) "
   ]
  },
  {
   "cell_type": "code",
   "execution_count": 50,
   "id": "f70bb6be",
   "metadata": {},
   "outputs": [],
   "source": [
    "weather = pd.read_csv('./data/weather_2017.csv')"
   ]
  },
  {
   "cell_type": "code",
   "execution_count": 51,
   "id": "49f8f2f6",
   "metadata": {},
   "outputs": [
    {
     "name": "stdout",
     "output_type": "stream",
     "text": [
      "<class 'pandas.core.frame.DataFrame'>\n",
      "RangeIndex: 4449165 entries, 0 to 4449164\n",
      "Data columns (total 10 columns):\n",
      " #   Column     Dtype  \n",
      "---  ------     -----  \n",
      " 0   지점         int64  \n",
      " 1   지점명        object \n",
      " 2   일시         object \n",
      " 3   기온(°C)     float64\n",
      " 4   풍향(deg)    float64\n",
      " 5   풍속(m/s)    float64\n",
      " 6   강수량(mm)    float64\n",
      " 7   현지기압(hPa)  float64\n",
      " 8   해면기압(hPa)  float64\n",
      " 9   습도(%)      float64\n",
      "dtypes: float64(7), int64(1), object(2)\n",
      "memory usage: 339.4+ MB\n"
     ]
    }
   ],
   "source": [
    "weather.info()"
   ]
  },
  {
   "cell_type": "code",
   "execution_count": null,
   "id": "e93319a9",
   "metadata": {},
   "outputs": [],
   "source": [
    "# 잘 저장되었다!! 끝! "
   ]
  },
  {
   "cell_type": "code",
   "execution_count": null,
   "id": "5fd14e8a",
   "metadata": {},
   "outputs": [],
   "source": []
  },
  {
   "cell_type": "code",
   "execution_count": null,
   "id": "c3adf11f",
   "metadata": {},
   "outputs": [],
   "source": []
  },
  {
   "cell_type": "code",
   "execution_count": null,
   "id": "39ae6ddb",
   "metadata": {},
   "outputs": [],
   "source": []
  },
  {
   "cell_type": "code",
   "execution_count": null,
   "id": "6780faf3",
   "metadata": {},
   "outputs": [],
   "source": []
  },
  {
   "cell_type": "code",
   "execution_count": null,
   "id": "28da2378",
   "metadata": {},
   "outputs": [],
   "source": []
  },
  {
   "cell_type": "code",
   "execution_count": null,
   "id": "c64e62c7",
   "metadata": {},
   "outputs": [],
   "source": []
  },
  {
   "cell_type": "code",
   "execution_count": null,
   "id": "81cc3a6a",
   "metadata": {},
   "outputs": [],
   "source": []
  }
 ],
 "metadata": {
  "kernelspec": {
   "display_name": "lab11",
   "language": "python",
   "name": "lab11"
  },
  "language_info": {
   "codemirror_mode": {
    "name": "ipython",
    "version": 3
   },
   "file_extension": ".py",
   "mimetype": "text/x-python",
   "name": "python",
   "nbconvert_exporter": "python",
   "pygments_lexer": "ipython3",
   "version": "3.8.11"
  }
 },
 "nbformat": 4,
 "nbformat_minor": 5
}
